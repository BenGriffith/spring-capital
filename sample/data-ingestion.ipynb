{
 "cells": [
  {
   "cell_type": "code",
   "execution_count": 0,
   "metadata": {
    "application/vnd.databricks.v1+cell": {
     "inputWidgets": {},
     "nuid": "0359b362-2ab2-4ba4-aa30-e7e8f58c5d3f",
     "showTitle": false,
     "title": ""
    }
   },
   "outputs": [
    {
     "data": {
      "text/html": [
       "<style scoped>\n",
       "  .ansiout {\n",
       "    display: block;\n",
       "    unicode-bidi: embed;\n",
       "    white-space: pre-wrap;\n",
       "    word-wrap: break-word;\n",
       "    word-break: break-all;\n",
       "    font-family: \"Source Code Pro\", \"Menlo\", monospace;;\n",
       "    font-size: 13px;\n",
       "    color: #555;\n",
       "    margin-left: 4px;\n",
       "    line-height: 19px;\n",
       "  }\n",
       "</style>\n",
       "<div class=\"ansiout\"></div>"
      ]
     },
     "metadata": {
      "application/vnd.databricks.v1+output": {
       "addedWidgets": {},
       "arguments": {},
       "data": "<div class=\"ansiout\"></div>",
       "datasetInfos": [],
       "removedWidgets": [],
       "type": "html"
      }
     },
     "output_type": "display_data"
    }
   ],
   "source": [
    "import pyspark\n",
    "import json\n",
    "from pyspark.sql.functions import *\n",
    "from pyspark.sql.types import *\n",
    "from pyspark.sql import SparkSession\n",
    "from datetime import datetime"
   ]
  },
  {
   "cell_type": "code",
   "execution_count": 0,
   "metadata": {
    "application/vnd.databricks.v1+cell": {
     "inputWidgets": {},
     "nuid": "5b2b8f88-4f81-4403-90d8-2633017faf73",
     "showTitle": false,
     "title": ""
    }
   },
   "outputs": [
    {
     "data": {
      "text/html": [
       "<style scoped>\n",
       "  .ansiout {\n",
       "    display: block;\n",
       "    unicode-bidi: embed;\n",
       "    white-space: pre-wrap;\n",
       "    word-wrap: break-word;\n",
       "    word-break: break-all;\n",
       "    font-family: \"Source Code Pro\", \"Menlo\", monospace;;\n",
       "    font-size: 13px;\n",
       "    color: #555;\n",
       "    margin-left: 4px;\n",
       "    line-height: 19px;\n",
       "  }\n",
       "</style>\n",
       "<div class=\"ansiout\"></div>"
      ]
     },
     "metadata": {
      "application/vnd.databricks.v1+output": {
       "addedWidgets": {},
       "arguments": {},
       "data": "<div class=\"ansiout\"></div>",
       "datasetInfos": [],
       "removedWidgets": [],
       "type": "html"
      }
     },
     "output_type": "display_data"
    }
   ],
   "source": [
    "common_event = StructType([StructField('trade_dt', DateType(), True),\n",
    "                           StructField('rec_type', StringType(), True),\n",
    "                           StructField('symbol', StringType(), True),\n",
    "                           StructField('exchange', StringType(), True),\n",
    "                           StructField('event_tm', TimestampType(), True),\n",
    "                           StructField('event_seq_nb', IntegerType(), True),\n",
    "                           StructField('arrival_tm', TimestampType(), True),\n",
    "                           StructField('trade_pr', FloatType(), True),\n",
    "                           StructField('bid_pr', FloatType(), True),\n",
    "                           StructField('bid_size', IntegerType(), True),\n",
    "                           StructField('ask_pr', FloatType(), True),\n",
    "                           StructField('ask_size', IntegerType(), True),\n",
    "                           StructField('partition', StringType(), True)])"
   ]
  },
  {
   "cell_type": "code",
   "execution_count": 0,
   "metadata": {
    "application/vnd.databricks.v1+cell": {
     "inputWidgets": {},
     "nuid": "432b6314-8fa7-49dc-b15e-c6deeb39777e",
     "showTitle": false,
     "title": ""
    }
   },
   "outputs": [
    {
     "data": {
      "text/html": [
       "<style scoped>\n",
       "  .ansiout {\n",
       "    display: block;\n",
       "    unicode-bidi: embed;\n",
       "    white-space: pre-wrap;\n",
       "    word-wrap: break-word;\n",
       "    word-break: break-all;\n",
       "    font-family: \"Source Code Pro\", \"Menlo\", monospace;;\n",
       "    font-size: 13px;\n",
       "    color: #555;\n",
       "    margin-left: 4px;\n",
       "    line-height: 19px;\n",
       "  }\n",
       "</style>\n",
       "<div class=\"ansiout\"></div>"
      ]
     },
     "metadata": {
      "application/vnd.databricks.v1+output": {
       "addedWidgets": {},
       "arguments": {},
       "data": "<div class=\"ansiout\"></div>",
       "datasetInfos": [],
       "removedWidgets": [],
       "type": "html"
      }
     },
     "output_type": "display_data"
    }
   ],
   "source": [
    "def parse_csv(line):\n",
    "    record_type_pos = 2\n",
    "    record = line.split(\",\")\n",
    "\n",
    "    try:\n",
    "        if record[record_type_pos] == 'T':\n",
    "              return (datetime.strptime(record[0], '%Y-%m-%d').date(), \n",
    "                      record[2], \n",
    "                      record[3], \n",
    "                      record[6], \n",
    "                      datetime.strptime(record[4], '%Y-%m-%d %H:%M:%S.%f'), \n",
    "                      int(record[5]), \n",
    "                      datetime.strptime(record[1], '%Y-%m-%d %H:%M:%S.%f'), \n",
    "                      float(record[7]), \n",
    "                      None, \n",
    "                      None, \n",
    "                      None, \n",
    "                      None, \n",
    "                      record[2])\n",
    "        elif record[record_type_pos] == 'Q':\n",
    "              return (datetime.strptime(record[0], '%Y-%m-%d').date(), \n",
    "                      record[2], \n",
    "                      record[3], \n",
    "                      record[6], \n",
    "                      datetime.strptime(record[4], '%Y-%m-%d %H:%M:%S.%f'), \n",
    "                      int(record[5]), \n",
    "                      datetime.strptime(record[1], '%Y-%m-%d %H:%M:%S.%f'), \n",
    "                      None, \n",
    "                      float(record[7]), \n",
    "                      int(record[8]), \n",
    "                      float(record[9]), \n",
    "                      int(record[10]), \n",
    "                      record[2])\n",
    "    except:\n",
    "        return (None, None, None, None, None, None, None, None, None, None, None, None, 'B')"
   ]
  },
  {
   "cell_type": "code",
   "execution_count": 0,
   "metadata": {
    "application/vnd.databricks.v1+cell": {
     "inputWidgets": {},
     "nuid": "7097ae3f-1cc1-431e-942d-fbced673e46a",
     "showTitle": false,
     "title": ""
    }
   },
   "outputs": [
    {
     "data": {
      "text/html": [
       "<style scoped>\n",
       "  .ansiout {\n",
       "    display: block;\n",
       "    unicode-bidi: embed;\n",
       "    white-space: pre-wrap;\n",
       "    word-wrap: break-word;\n",
       "    word-break: break-all;\n",
       "    font-family: \"Source Code Pro\", \"Menlo\", monospace;;\n",
       "    font-size: 13px;\n",
       "    color: #555;\n",
       "    margin-left: 4px;\n",
       "    line-height: 19px;\n",
       "  }\n",
       "</style>\n",
       "<div class=\"ansiout\"></div>"
      ]
     },
     "metadata": {
      "application/vnd.databricks.v1+output": {
       "addedWidgets": {},
       "arguments": {},
       "data": "<div class=\"ansiout\"></div>",
       "datasetInfos": [],
       "removedWidgets": [],
       "type": "html"
      }
     },
     "output_type": "display_data"
    }
   ],
   "source": [
    "spark = SparkSession.builder.getOrCreate()"
   ]
  },
  {
   "cell_type": "code",
   "execution_count": 0,
   "metadata": {
    "application/vnd.databricks.v1+cell": {
     "inputWidgets": {},
     "nuid": "1b3f4760-f855-4475-8659-ea31e9c822fe",
     "showTitle": false,
     "title": ""
    }
   },
   "outputs": [
    {
     "data": {
      "text/html": [
       "<style scoped>\n",
       "  .ansiout {\n",
       "    display: block;\n",
       "    unicode-bidi: embed;\n",
       "    white-space: pre-wrap;\n",
       "    word-wrap: break-word;\n",
       "    word-break: break-all;\n",
       "    font-family: \"Source Code Pro\", \"Menlo\", monospace;;\n",
       "    font-size: 13px;\n",
       "    color: #555;\n",
       "    margin-left: 4px;\n",
       "    line-height: 19px;\n",
       "  }\n",
       "</style>\n",
       "<div class=\"ansiout\"></div>"
      ]
     },
     "metadata": {
      "application/vnd.databricks.v1+output": {
       "addedWidgets": {},
       "arguments": {},
       "data": "<div class=\"ansiout\"></div>",
       "datasetInfos": [],
       "removedWidgets": [],
       "type": "html"
      }
     },
     "output_type": "display_data"
    }
   ],
   "source": [
    "spark.conf.set(\n",
    "  \"fs.azure.account.key.somestorage.blob.core.windows.net\",\n",
    "  \"somekey\")\n",
    "\n",
    "raw_csv_05 = spark.sparkContext.textFile(\"wasbs://somecontainer@somestorage.blob.core.windows.net/csv/2020-08-05/NYSE\")\n",
    "parsed_csv_05 = raw_csv_05.map(lambda line: parse_csv(line))\n",
    "csv_data_05 = spark.createDataFrame(parsed_csv_05, schema=common_event)\n",
    "\n",
    "raw_csv_06 = spark.sparkContext.textFile(\"wasbs://somecontainer@somestorage.blob.core.windows.net/csv/2020-08-06/NYSE\")\n",
    "parsed_csv_06 = raw_csv_06.map(lambda line: parse_csv(line))\n",
    "csv_data_06 = spark.createDataFrame(parsed_csv_06, schema=common_event)\n",
    "\n",
    "csv_data = csv_data_05.union(csv_data_06)"
   ]
  },
  {
   "cell_type": "code",
   "execution_count": 0,
   "metadata": {
    "application/vnd.databricks.v1+cell": {
     "inputWidgets": {},
     "nuid": "c3f08881-8161-49ba-bb70-a5270123b64e",
     "showTitle": false,
     "title": ""
    }
   },
   "outputs": [
    {
     "data": {
      "text/html": [
       "<style scoped>\n",
       "  .ansiout {\n",
       "    display: block;\n",
       "    unicode-bidi: embed;\n",
       "    white-space: pre-wrap;\n",
       "    word-wrap: break-word;\n",
       "    word-break: break-all;\n",
       "    font-family: \"Source Code Pro\", \"Menlo\", monospace;;\n",
       "    font-size: 13px;\n",
       "    color: #555;\n",
       "    margin-left: 4px;\n",
       "    line-height: 19px;\n",
       "  }\n",
       "</style>\n",
       "<div class=\"ansiout\">+----------+--------+------+--------+--------------------+------------+-------------------+---------+---------+--------+---------+--------+---------+\n",
       "  trade_dt|rec_type|symbol|exchange|            event_tm|event_seq_nb|         arrival_tm| trade_pr|   bid_pr|bid_size|   ask_pr|ask_size|partition|\n",
       "+----------+--------+------+--------+--------------------+------------+-------------------+---------+---------+--------+---------+--------+---------+\n",
       "2020-08-05|       Q|  SYMA|    NYSE|2020-08-05 09:34:...|           1|2020-08-05 09:30:00|     null| 75.30255|     100| 75.35917|     100|        Q|\n",
       "2020-08-05|       Q|  SYMA|    NYSE|2020-08-05 09:40:...|           2|2020-08-05 09:30:00|     null| 77.20875|     100| 78.90918|     100|        Q|\n",
       "2020-08-05|       Q|  SYMA|    NYSE|2020-08-05 09:50:...|           3|2020-08-05 09:30:00|     null| 77.15973|     100| 77.33205|     100|        Q|\n",
       "2020-08-05|       Q|  SYMA|    NYSE|2020-08-05 09:57:...|           4|2020-08-05 09:30:00|     null|79.299774|     100| 80.08399|     100|        Q|\n",
       "2020-08-05|       Q|  SYMA|    NYSE|2020-08-05 10:06:...|           5|2020-08-05 09:30:00|     null|77.863495|     100| 78.30821|     100|        Q|\n",
       "2020-08-05|       Q|  SYMA|    NYSE|2020-08-05 10:11:...|           6|2020-08-05 09:30:00|     null| 78.74799|     100|80.329056|     100|        Q|\n",
       "2020-08-05|       Q|  SYMA|    NYSE|2020-08-05 10:17:...|           7|2020-08-05 09:30:00|     null| 77.16837|     100| 77.97598|     100|        Q|\n",
       "2020-08-05|       Q|  SYMA|    NYSE|2020-08-05 10:23:...|           8|2020-08-05 09:30:00|     null| 78.06551|     100| 78.80516|     100|        Q|\n",
       "2020-08-05|       Q|  SYMA|    NYSE|2020-08-05 10:31:...|           9|2020-08-05 09:30:00|     null| 76.69653|     100| 78.56943|     100|        Q|\n",
       "2020-08-05|       T|  SYMA|    NYSE|2020-08-05 10:37:...|          10|2020-08-05 09:30:00|79.194885|     null|    null|     null|    null|        T|\n",
       "2020-08-05|       Q|  SYMA|    NYSE|2020-08-05 10:45:...|          11|2020-08-05 09:30:00|     null| 75.10474|     100|77.096565|     100|        Q|\n",
       "2020-08-05|       Q|  SYMA|    NYSE|2020-08-05 10:54:...|          12|2020-08-05 09:30:00|     null| 74.52148|     100| 75.66917|     100|        Q|\n",
       "2020-08-05|       Q|  SYMA|    NYSE|2020-08-05 11:03:...|          13|2020-08-05 09:30:00|     null| 75.16876|     100| 76.70698|     100|        Q|\n",
       "2020-08-05|       Q|  SYMA|    NYSE|2020-08-05 11:12:...|          14|2020-08-05 09:30:00|     null| 74.56633|     100|74.621376|     100|        Q|\n",
       "2020-08-05|       Q|  SYMA|    NYSE|2020-08-05 11:19:...|          15|2020-08-05 09:30:00|     null| 74.49803|     100|76.475914|     100|        Q|\n",
       "2020-08-05|       Q|  SYMA|    NYSE|2020-08-05 11:27:...|          16|2020-08-05 09:30:00|     null| 75.22889|     100|76.143684|     100|        Q|\n",
       "2020-08-05|       Q|  SYMA|    NYSE|2020-08-05 11:35:...|          17|2020-08-05 09:30:00|     null| 76.62792|     100| 76.99149|     100|        Q|\n",
       "2020-08-05|       Q|  SYMA|    NYSE|2020-08-05 11:42:...|          18|2020-08-05 09:30:00|     null|77.094666|     100|78.159676|     100|        Q|\n",
       "2020-08-05|       Q|  SYMA|    NYSE|2020-08-05 11:51:...|          19|2020-08-05 09:30:00|     null|78.335365|     100| 79.39139|     100|        Q|\n",
       "2020-08-05|       T|  SYMA|    NYSE|2020-08-05 11:56:...|          20|2020-08-05 09:30:00| 76.49093|     null|    null|     null|    null|        T|\n",
       "+----------+--------+------+--------+--------------------+------------+-------------------+---------+---------+--------+---------+--------+---------+\n",
       "only showing top 20 rows\n",
       "\n",
       "</div>"
      ]
     },
     "metadata": {
      "application/vnd.databricks.v1+output": {
       "addedWidgets": {},
       "arguments": {},
       "data": "<div class=\"ansiout\">+----------+--------+------+--------+--------------------+------------+-------------------+---------+---------+--------+---------+--------+---------+\n|  trade_dt|rec_type|symbol|exchange|            event_tm|event_seq_nb|         arrival_tm| trade_pr|   bid_pr|bid_size|   ask_pr|ask_size|partition|\n+----------+--------+------+--------+--------------------+------------+-------------------+---------+---------+--------+---------+--------+---------+\n|2020-08-05|       Q|  SYMA|    NYSE|2020-08-05 09:34:...|           1|2020-08-05 09:30:00|     null| 75.30255|     100| 75.35917|     100|        Q|\n|2020-08-05|       Q|  SYMA|    NYSE|2020-08-05 09:40:...|           2|2020-08-05 09:30:00|     null| 77.20875|     100| 78.90918|     100|        Q|\n|2020-08-05|       Q|  SYMA|    NYSE|2020-08-05 09:50:...|           3|2020-08-05 09:30:00|     null| 77.15973|     100| 77.33205|     100|        Q|\n|2020-08-05|       Q|  SYMA|    NYSE|2020-08-05 09:57:...|           4|2020-08-05 09:30:00|     null|79.299774|     100| 80.08399|     100|        Q|\n|2020-08-05|       Q|  SYMA|    NYSE|2020-08-05 10:06:...|           5|2020-08-05 09:30:00|     null|77.863495|     100| 78.30821|     100|        Q|\n|2020-08-05|       Q|  SYMA|    NYSE|2020-08-05 10:11:...|           6|2020-08-05 09:30:00|     null| 78.74799|     100|80.329056|     100|        Q|\n|2020-08-05|       Q|  SYMA|    NYSE|2020-08-05 10:17:...|           7|2020-08-05 09:30:00|     null| 77.16837|     100| 77.97598|     100|        Q|\n|2020-08-05|       Q|  SYMA|    NYSE|2020-08-05 10:23:...|           8|2020-08-05 09:30:00|     null| 78.06551|     100| 78.80516|     100|        Q|\n|2020-08-05|       Q|  SYMA|    NYSE|2020-08-05 10:31:...|           9|2020-08-05 09:30:00|     null| 76.69653|     100| 78.56943|     100|        Q|\n|2020-08-05|       T|  SYMA|    NYSE|2020-08-05 10:37:...|          10|2020-08-05 09:30:00|79.194885|     null|    null|     null|    null|        T|\n|2020-08-05|       Q|  SYMA|    NYSE|2020-08-05 10:45:...|          11|2020-08-05 09:30:00|     null| 75.10474|     100|77.096565|     100|        Q|\n|2020-08-05|       Q|  SYMA|    NYSE|2020-08-05 10:54:...|          12|2020-08-05 09:30:00|     null| 74.52148|     100| 75.66917|     100|        Q|\n|2020-08-05|       Q|  SYMA|    NYSE|2020-08-05 11:03:...|          13|2020-08-05 09:30:00|     null| 75.16876|     100| 76.70698|     100|        Q|\n|2020-08-05|       Q|  SYMA|    NYSE|2020-08-05 11:12:...|          14|2020-08-05 09:30:00|     null| 74.56633|     100|74.621376|     100|        Q|\n|2020-08-05|       Q|  SYMA|    NYSE|2020-08-05 11:19:...|          15|2020-08-05 09:30:00|     null| 74.49803|     100|76.475914|     100|        Q|\n|2020-08-05|       Q|  SYMA|    NYSE|2020-08-05 11:27:...|          16|2020-08-05 09:30:00|     null| 75.22889|     100|76.143684|     100|        Q|\n|2020-08-05|       Q|  SYMA|    NYSE|2020-08-05 11:35:...|          17|2020-08-05 09:30:00|     null| 76.62792|     100| 76.99149|     100|        Q|\n|2020-08-05|       Q|  SYMA|    NYSE|2020-08-05 11:42:...|          18|2020-08-05 09:30:00|     null|77.094666|     100|78.159676|     100|        Q|\n|2020-08-05|       Q|  SYMA|    NYSE|2020-08-05 11:51:...|          19|2020-08-05 09:30:00|     null|78.335365|     100| 79.39139|     100|        Q|\n|2020-08-05|       T|  SYMA|    NYSE|2020-08-05 11:56:...|          20|2020-08-05 09:30:00| 76.49093|     null|    null|     null|    null|        T|\n+----------+--------+------+--------+--------------------+------------+-------------------+---------+---------+--------+---------+--------+---------+\nonly showing top 20 rows\n\n</div>",
       "datasetInfos": [],
       "removedWidgets": [],
       "type": "html"
      }
     },
     "output_type": "display_data"
    }
   ],
   "source": [
    "csv_data.show()"
   ]
  },
  {
   "cell_type": "code",
   "execution_count": 0,
   "metadata": {
    "application/vnd.databricks.v1+cell": {
     "inputWidgets": {},
     "nuid": "6a9a68ff-748e-49e8-9b75-486a710bb4f8",
     "showTitle": false,
     "title": ""
    }
   },
   "outputs": [
    {
     "data": {
      "text/html": [
       "<style scoped>\n",
       "  .ansiout {\n",
       "    display: block;\n",
       "    unicode-bidi: embed;\n",
       "    white-space: pre-wrap;\n",
       "    word-wrap: break-word;\n",
       "    word-break: break-all;\n",
       "    font-family: \"Source Code Pro\", \"Menlo\", monospace;;\n",
       "    font-size: 13px;\n",
       "    color: #555;\n",
       "    margin-left: 4px;\n",
       "    line-height: 19px;\n",
       "  }\n",
       "</style>\n",
       "<div class=\"ansiout\"></div>"
      ]
     },
     "metadata": {
      "application/vnd.databricks.v1+output": {
       "addedWidgets": {},
       "arguments": {},
       "data": "<div class=\"ansiout\"></div>",
       "datasetInfos": [],
       "removedWidgets": [],
       "type": "html"
      }
     },
     "output_type": "display_data"
    }
   ],
   "source": [
    "def parse_json(line):\n",
    "    line = json.loads(line)\n",
    "    record_type = line['event_type']\n",
    "\n",
    "    try:\n",
    "        if record_type == 'T':\n",
    "              return (datetime.strptime(line['trade_dt'], '%Y-%m-%d').date(), \n",
    "                      record_type, \n",
    "                      line['symbol'], \n",
    "                      line['exchange'], \n",
    "                      datetime.strptime(line['event_tm'], '%Y-%m-%d %H:%M:%S.%f'), \n",
    "                      line['event_seq_nb'], \n",
    "                      datetime.strptime(line['file_tm'], '%Y-%m-%d %H:%M:%S.%f'), \n",
    "                      line['price'], \n",
    "                      None, \n",
    "                      None, \n",
    "                      None, \n",
    "                      None, \n",
    "                      record_type)\n",
    "        elif record_type == 'Q':\n",
    "              return (datetime.strptime(line['trade_dt'], '%Y-%m-%d').date(), \n",
    "                      record_type, \n",
    "                      line['symbol'], \n",
    "                      line['exchange'], \n",
    "                      datetime.strptime(line['event_tm'], '%Y-%m-%d %H:%M:%S.%f'), \n",
    "                      line['event_seq_nb'], \n",
    "                      datetime.strptime(line['file_tm'], '%Y-%m-%d %H:%M:%S.%f'), \n",
    "                      None, \n",
    "                      line['bid_pr'], \n",
    "                      line['bid_size'], \n",
    "                      line['ask_pr'], \n",
    "                      line['ask_size'], \n",
    "                      record_type)\n",
    "    except:\n",
    "        return (None, None, None, None, None, None, None, None, None, None, None, None, 'B')"
   ]
  },
  {
   "cell_type": "code",
   "execution_count": 0,
   "metadata": {
    "application/vnd.databricks.v1+cell": {
     "inputWidgets": {},
     "nuid": "1e7b2d32-0609-4b52-8446-33005c0f9b32",
     "showTitle": false,
     "title": ""
    }
   },
   "outputs": [
    {
     "data": {
      "text/html": [
       "<style scoped>\n",
       "  .ansiout {\n",
       "    display: block;\n",
       "    unicode-bidi: embed;\n",
       "    white-space: pre-wrap;\n",
       "    word-wrap: break-word;\n",
       "    word-break: break-all;\n",
       "    font-family: \"Source Code Pro\", \"Menlo\", monospace;;\n",
       "    font-size: 13px;\n",
       "    color: #555;\n",
       "    margin-left: 4px;\n",
       "    line-height: 19px;\n",
       "  }\n",
       "</style>\n",
       "<div class=\"ansiout\"></div>"
      ]
     },
     "metadata": {
      "application/vnd.databricks.v1+output": {
       "addedWidgets": {},
       "arguments": {},
       "data": "<div class=\"ansiout\"></div>",
       "datasetInfos": [],
       "removedWidgets": [],
       "type": "html"
      }
     },
     "output_type": "display_data"
    }
   ],
   "source": [
    "raw_json_05 = spark.sparkContext.textFile(\"wasbs://somecontainer@somestorage.blob.core.windows.net/json/2020-08-05/NASDAQ\")\n",
    "parsed_json_05 = raw_json_05.map(lambda line: parse_json(line))\n",
    "json_data_05 = spark.createDataFrame(parsed_json_05, schema=common_event)\n",
    "\n",
    "raw_json_06 = spark.sparkContext.textFile(\"wasbs://somecontainer@somestorage.blob.core.windows.net/json/2020-08-06/NASDAQ\")\n",
    "parsed_json_06 = raw_json_06.map(lambda line: parse_json(line))\n",
    "json_data_06 = spark.createDataFrame(parsed_json_06, schema=common_event)\n",
    "\n",
    "json_data = json_data_05.union(json_data_06)"
   ]
  },
  {
   "cell_type": "code",
   "execution_count": 0,
   "metadata": {
    "application/vnd.databricks.v1+cell": {
     "inputWidgets": {},
     "nuid": "fa067e08-b29d-4cbb-916e-8a383ee578b4",
     "showTitle": false,
     "title": ""
    }
   },
   "outputs": [
    {
     "data": {
      "text/html": [
       "<style scoped>\n",
       "  .ansiout {\n",
       "    display: block;\n",
       "    unicode-bidi: embed;\n",
       "    white-space: pre-wrap;\n",
       "    word-wrap: break-word;\n",
       "    word-break: break-all;\n",
       "    font-family: \"Source Code Pro\", \"Menlo\", monospace;;\n",
       "    font-size: 13px;\n",
       "    color: #555;\n",
       "    margin-left: 4px;\n",
       "    line-height: 19px;\n",
       "  }\n",
       "</style>\n",
       "<div class=\"ansiout\">+----------+--------+------+--------+--------------------+------------+-------------------+---------+---------+--------+---------+--------+---------+\n",
       "  trade_dt|rec_type|symbol|exchange|            event_tm|event_seq_nb|         arrival_tm| trade_pr|   bid_pr|bid_size|   ask_pr|ask_size|partition|\n",
       "+----------+--------+------+--------+--------------------+------------+-------------------+---------+---------+--------+---------+--------+---------+\n",
       "2020-08-05|       Q|  SYMA|  NASDAQ|2020-08-05 09:36:...|           1|2020-08-05 09:30:00|     null| 76.10017|     100|  77.9648|     100|        Q|\n",
       "2020-08-05|       Q|  SYMA|  NASDAQ|2020-08-05 09:42:...|           2|2020-08-05 09:30:00|     null| 75.44373|     100| 75.94453|     100|        Q|\n",
       "2020-08-05|       Q|  SYMA|  NASDAQ|2020-08-05 09:48:...|           3|2020-08-05 09:30:00|     null|78.847984|     100| 80.69115|     100|        Q|\n",
       "2020-08-05|       Q|  SYMA|  NASDAQ|2020-08-05 09:53:...|           4|2020-08-05 09:30:00|     null| 74.98337|     100| 76.16257|     100|        Q|\n",
       "2020-08-05|       Q|  SYMA|  NASDAQ|2020-08-05 10:00:...|           5|2020-08-05 09:30:00|     null| 76.71408|     100|77.855125|     100|        Q|\n",
       "2020-08-05|       Q|  SYMA|  NASDAQ|2020-08-05 10:05:...|           6|2020-08-05 09:30:00|     null| 76.78901|     100| 77.79983|     100|        Q|\n",
       "2020-08-05|       Q|  SYMA|  NASDAQ|2020-08-05 10:13:...|           7|2020-08-05 09:30:00|     null|76.370995|     100| 76.94632|     100|        Q|\n",
       "2020-08-05|       Q|  SYMA|  NASDAQ|2020-08-05 10:21:...|           8|2020-08-05 09:30:00|     null| 77.32601|     100| 77.65018|     100|        Q|\n",
       "2020-08-05|       Q|  SYMA|  NASDAQ|2020-08-05 10:30:...|           9|2020-08-05 09:30:00|     null| 77.11395|     100| 77.52986|     100|        Q|\n",
       "2020-08-05|       T|  SYMA|  NASDAQ|2020-08-05 10:38:...|          10|2020-08-05 09:30:00|  77.7757|     null|    null|     null|    null|        T|\n",
       "2020-08-05|       Q|  SYMA|  NASDAQ|2020-08-05 10:45:...|          11|2020-08-05 09:30:00|     null| 77.69893|     100| 79.18605|     100|        Q|\n",
       "2020-08-05|       Q|  SYMA|  NASDAQ|2020-08-05 10:54:...|          12|2020-08-05 09:30:00|     null| 75.09529|     100| 75.83132|     100|        Q|\n",
       "2020-08-05|       Q|  SYMA|  NASDAQ|2020-08-05 11:02:...|          13|2020-08-05 09:30:00|     null| 77.76547|     100| 79.41345|     100|        Q|\n",
       "2020-08-05|       Q|  SYMA|  NASDAQ|2020-08-05 11:11:...|          14|2020-08-05 09:30:00|     null| 76.39994|     100| 76.83733|     100|        Q|\n",
       "2020-08-05|       Q|  SYMA|  NASDAQ|2020-08-05 11:19:...|          15|2020-08-05 09:30:00|     null| 79.09882|     100| 79.83007|     100|        Q|\n",
       "2020-08-05|       Q|  SYMA|  NASDAQ|2020-08-05 11:29:...|          16|2020-08-05 09:30:00|     null| 74.72294|     100| 76.05085|     100|        Q|\n",
       "2020-08-05|       Q|  SYMA|  NASDAQ|2020-08-05 11:34:...|          17|2020-08-05 09:30:00|     null| 78.06235|     100| 78.36705|     100|        Q|\n",
       "2020-08-05|       Q|  SYMA|  NASDAQ|2020-08-05 11:41:...|          18|2020-08-05 09:30:00|     null|78.716835|     100|  80.4561|     100|        Q|\n",
       "2020-08-05|       Q|  SYMA|  NASDAQ|2020-08-05 11:50:...|          19|2020-08-05 09:30:00|     null|  79.1717|     100| 80.14798|     100|        Q|\n",
       "2020-08-05|       T|  SYMA|  NASDAQ|2020-08-05 11:58:...|          20|2020-08-05 09:30:00|75.715225|     null|    null|     null|    null|        T|\n",
       "+----------+--------+------+--------+--------------------+------------+-------------------+---------+---------+--------+---------+--------+---------+\n",
       "only showing top 20 rows\n",
       "\n",
       "</div>"
      ]
     },
     "metadata": {
      "application/vnd.databricks.v1+output": {
       "addedWidgets": {},
       "arguments": {},
       "data": "<div class=\"ansiout\">+----------+--------+------+--------+--------------------+------------+-------------------+---------+---------+--------+---------+--------+---------+\n|  trade_dt|rec_type|symbol|exchange|            event_tm|event_seq_nb|         arrival_tm| trade_pr|   bid_pr|bid_size|   ask_pr|ask_size|partition|\n+----------+--------+------+--------+--------------------+------------+-------------------+---------+---------+--------+---------+--------+---------+\n|2020-08-05|       Q|  SYMA|  NASDAQ|2020-08-05 09:36:...|           1|2020-08-05 09:30:00|     null| 76.10017|     100|  77.9648|     100|        Q|\n|2020-08-05|       Q|  SYMA|  NASDAQ|2020-08-05 09:42:...|           2|2020-08-05 09:30:00|     null| 75.44373|     100| 75.94453|     100|        Q|\n|2020-08-05|       Q|  SYMA|  NASDAQ|2020-08-05 09:48:...|           3|2020-08-05 09:30:00|     null|78.847984|     100| 80.69115|     100|        Q|\n|2020-08-05|       Q|  SYMA|  NASDAQ|2020-08-05 09:53:...|           4|2020-08-05 09:30:00|     null| 74.98337|     100| 76.16257|     100|        Q|\n|2020-08-05|       Q|  SYMA|  NASDAQ|2020-08-05 10:00:...|           5|2020-08-05 09:30:00|     null| 76.71408|     100|77.855125|     100|        Q|\n|2020-08-05|       Q|  SYMA|  NASDAQ|2020-08-05 10:05:...|           6|2020-08-05 09:30:00|     null| 76.78901|     100| 77.79983|     100|        Q|\n|2020-08-05|       Q|  SYMA|  NASDAQ|2020-08-05 10:13:...|           7|2020-08-05 09:30:00|     null|76.370995|     100| 76.94632|     100|        Q|\n|2020-08-05|       Q|  SYMA|  NASDAQ|2020-08-05 10:21:...|           8|2020-08-05 09:30:00|     null| 77.32601|     100| 77.65018|     100|        Q|\n|2020-08-05|       Q|  SYMA|  NASDAQ|2020-08-05 10:30:...|           9|2020-08-05 09:30:00|     null| 77.11395|     100| 77.52986|     100|        Q|\n|2020-08-05|       T|  SYMA|  NASDAQ|2020-08-05 10:38:...|          10|2020-08-05 09:30:00|  77.7757|     null|    null|     null|    null|        T|\n|2020-08-05|       Q|  SYMA|  NASDAQ|2020-08-05 10:45:...|          11|2020-08-05 09:30:00|     null| 77.69893|     100| 79.18605|     100|        Q|\n|2020-08-05|       Q|  SYMA|  NASDAQ|2020-08-05 10:54:...|          12|2020-08-05 09:30:00|     null| 75.09529|     100| 75.83132|     100|        Q|\n|2020-08-05|       Q|  SYMA|  NASDAQ|2020-08-05 11:02:...|          13|2020-08-05 09:30:00|     null| 77.76547|     100| 79.41345|     100|        Q|\n|2020-08-05|       Q|  SYMA|  NASDAQ|2020-08-05 11:11:...|          14|2020-08-05 09:30:00|     null| 76.39994|     100| 76.83733|     100|        Q|\n|2020-08-05|       Q|  SYMA|  NASDAQ|2020-08-05 11:19:...|          15|2020-08-05 09:30:00|     null| 79.09882|     100| 79.83007|     100|        Q|\n|2020-08-05|       Q|  SYMA|  NASDAQ|2020-08-05 11:29:...|          16|2020-08-05 09:30:00|     null| 74.72294|     100| 76.05085|     100|        Q|\n|2020-08-05|       Q|  SYMA|  NASDAQ|2020-08-05 11:34:...|          17|2020-08-05 09:30:00|     null| 78.06235|     100| 78.36705|     100|        Q|\n|2020-08-05|       Q|  SYMA|  NASDAQ|2020-08-05 11:41:...|          18|2020-08-05 09:30:00|     null|78.716835|     100|  80.4561|     100|        Q|\n|2020-08-05|       Q|  SYMA|  NASDAQ|2020-08-05 11:50:...|          19|2020-08-05 09:30:00|     null|  79.1717|     100| 80.14798|     100|        Q|\n|2020-08-05|       T|  SYMA|  NASDAQ|2020-08-05 11:58:...|          20|2020-08-05 09:30:00|75.715225|     null|    null|     null|    null|        T|\n+----------+--------+------+--------+--------------------+------------+-------------------+---------+---------+--------+---------+--------+---------+\nonly showing top 20 rows\n\n</div>",
       "datasetInfos": [],
       "removedWidgets": [],
       "type": "html"
      }
     },
     "output_type": "display_data"
    }
   ],
   "source": [
    "json_data.show()"
   ]
  },
  {
   "cell_type": "code",
   "execution_count": 0,
   "metadata": {
    "application/vnd.databricks.v1+cell": {
     "inputWidgets": {},
     "nuid": "68102bed-c4a6-4669-a88e-2ac47e554560",
     "showTitle": false,
     "title": ""
    }
   },
   "outputs": [
    {
     "data": {
      "text/html": [
       "<style scoped>\n",
       "  .ansiout {\n",
       "    display: block;\n",
       "    unicode-bidi: embed;\n",
       "    white-space: pre-wrap;\n",
       "    word-wrap: break-word;\n",
       "    word-break: break-all;\n",
       "    font-family: \"Source Code Pro\", \"Menlo\", monospace;;\n",
       "    font-size: 13px;\n",
       "    color: #555;\n",
       "    margin-left: 4px;\n",
       "    line-height: 19px;\n",
       "  }\n",
       "</style>\n",
       "<div class=\"ansiout\">Out[21]: 1200</div>"
      ]
     },
     "metadata": {
      "application/vnd.databricks.v1+output": {
       "addedWidgets": {},
       "arguments": {},
       "data": "<div class=\"ansiout\">Out[21]: 1200</div>",
       "datasetInfos": [],
       "removedWidgets": [],
       "type": "html"
      }
     },
     "output_type": "display_data"
    }
   ],
   "source": [
    "data = csv_data.union(json_data)"
   ]
  },
  {
   "cell_type": "code",
   "execution_count": 0,
   "metadata": {
    "application/vnd.databricks.v1+cell": {
     "inputWidgets": {},
     "nuid": "f7fc9310-fb9d-4962-98bd-a74abc0020e0",
     "showTitle": false,
     "title": ""
    }
   },
   "outputs": [
    {
     "data": {
      "text/html": [
       "<style scoped>\n",
       "  .ansiout {\n",
       "    display: block;\n",
       "    unicode-bidi: embed;\n",
       "    white-space: pre-wrap;\n",
       "    word-wrap: break-word;\n",
       "    word-break: break-all;\n",
       "    font-family: \"Source Code Pro\", \"Menlo\", monospace;;\n",
       "    font-size: 13px;\n",
       "    color: #555;\n",
       "    margin-left: 4px;\n",
       "    line-height: 19px;\n",
       "  }\n",
       "</style>\n",
       "<div class=\"ansiout\">root\n",
       "-- trade_dt: date (nullable = true)\n",
       "-- rec_type: string (nullable = true)\n",
       "-- symbol: string (nullable = true)\n",
       "-- exchange: string (nullable = true)\n",
       "-- event_tm: timestamp (nullable = true)\n",
       "-- event_seq_nb: integer (nullable = true)\n",
       "-- arrival_tm: timestamp (nullable = true)\n",
       "-- trade_pr: float (nullable = true)\n",
       "-- bid_pr: float (nullable = true)\n",
       "-- bid_size: integer (nullable = true)\n",
       "-- ask_pr: float (nullable = true)\n",
       "-- ask_size: integer (nullable = true)\n",
       "-- partition: string (nullable = true)\n",
       "\n",
       "</div>"
      ]
     },
     "metadata": {
      "application/vnd.databricks.v1+output": {
       "addedWidgets": {},
       "arguments": {},
       "data": "<div class=\"ansiout\">root\n |-- trade_dt: date (nullable = true)\n |-- rec_type: string (nullable = true)\n |-- symbol: string (nullable = true)\n |-- exchange: string (nullable = true)\n |-- event_tm: timestamp (nullable = true)\n |-- event_seq_nb: integer (nullable = true)\n |-- arrival_tm: timestamp (nullable = true)\n |-- trade_pr: float (nullable = true)\n |-- bid_pr: float (nullable = true)\n |-- bid_size: integer (nullable = true)\n |-- ask_pr: float (nullable = true)\n |-- ask_size: integer (nullable = true)\n |-- partition: string (nullable = true)\n\n</div>",
       "datasetInfos": [],
       "removedWidgets": [],
       "type": "html"
      }
     },
     "output_type": "display_data"
    }
   ],
   "source": [
    "data.printSchema()"
   ]
  },
  {
   "cell_type": "code",
   "execution_count": 0,
   "metadata": {
    "application/vnd.databricks.v1+cell": {
     "inputWidgets": {},
     "nuid": "c9e031ae-aea0-42fe-9518-9c18ed0798b5",
     "showTitle": false,
     "title": ""
    }
   },
   "outputs": [
    {
     "data": {
      "text/html": [
       "<style scoped>\n",
       "  .ansiout {\n",
       "    display: block;\n",
       "    unicode-bidi: embed;\n",
       "    white-space: pre-wrap;\n",
       "    word-wrap: break-word;\n",
       "    word-break: break-all;\n",
       "    font-family: \"Source Code Pro\", \"Menlo\", monospace;;\n",
       "    font-size: 13px;\n",
       "    color: #555;\n",
       "    margin-left: 4px;\n",
       "    line-height: 19px;\n",
       "  }\n",
       "</style>\n",
       "<div class=\"ansiout\"></div>"
      ]
     },
     "metadata": {
      "application/vnd.databricks.v1+output": {
       "addedWidgets": {},
       "arguments": {},
       "data": "<div class=\"ansiout\"></div>",
       "datasetInfos": [],
       "removedWidgets": [],
       "type": "html"
      }
     },
     "output_type": "display_data"
    }
   ],
   "source": [
    "data.write.partitionBy(\"partition\").mode(\"overwrite\").parquet(\"wasbs://somecontainer@somestorage.blob.core.windows.net/output_dir\")"
   ]
  }
 ],
 "metadata": {
  "application/vnd.databricks.v1+notebook": {
   "dashboards": [],
   "language": "python",
   "notebookName": "data-ingestion",
   "notebookOrigID": 2479184257438051,
   "widgets": {}
  },
  "kernelspec": {
   "display_name": "Python 3",
   "language": "python",
   "name": "python3"
  },
  "language_info": {
   "codemirror_mode": {
    "name": "ipython",
    "version": 3
   },
   "file_extension": ".py",
   "mimetype": "text/x-python",
   "name": "python",
   "nbconvert_exporter": "python",
   "pygments_lexer": "ipython3",
   "version": "3.8.3"
  }
 },
 "nbformat": 4,
 "nbformat_minor": 1
}
