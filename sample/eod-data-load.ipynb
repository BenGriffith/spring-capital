{
 "cells": [
  {
   "cell_type": "code",
   "execution_count": 0,
   "metadata": {
    "application/vnd.databricks.v1+cell": {
     "inputWidgets": {},
     "nuid": "0899a461-09f4-465a-bb99-cff66bfdfdf1",
     "showTitle": false,
     "title": ""
    }
   },
   "outputs": [
    {
     "data": {
      "text/html": [
       "<style scoped>\n",
       "  .ansiout {\n",
       "    display: block;\n",
       "    unicode-bidi: embed;\n",
       "    white-space: pre-wrap;\n",
       "    word-wrap: break-word;\n",
       "    word-break: break-all;\n",
       "    font-family: \"Source Code Pro\", \"Menlo\", monospace;;\n",
       "    font-size: 13px;\n",
       "    color: #555;\n",
       "    margin-left: 4px;\n",
       "    line-height: 19px;\n",
       "  }\n",
       "</style>\n",
       "<div class=\"ansiout\"></div>"
      ]
     },
     "metadata": {
      "application/vnd.databricks.v1+output": {
       "addedWidgets": {},
       "arguments": {},
       "data": "<div class=\"ansiout\"></div>",
       "datasetInfos": [],
       "removedWidgets": [],
       "type": "html"
      }
     },
     "output_type": "display_data"
    }
   ],
   "source": [
    "import pyspark\n",
    "from pyspark.sql.types import *\n",
    "from pyspark.sql.functions import *\n",
    "from pyspark.sql import SparkSession"
   ]
  },
  {
   "cell_type": "code",
   "execution_count": 0,
   "metadata": {
    "application/vnd.databricks.v1+cell": {
     "inputWidgets": {},
     "nuid": "638c5b34-5b29-46e9-8f6d-5848c95b1f4a",
     "showTitle": false,
     "title": ""
    }
   },
   "outputs": [
    {
     "data": {
      "text/html": [
       "<style scoped>\n",
       "  .ansiout {\n",
       "    display: block;\n",
       "    unicode-bidi: embed;\n",
       "    white-space: pre-wrap;\n",
       "    word-wrap: break-word;\n",
       "    word-break: break-all;\n",
       "    font-family: \"Source Code Pro\", \"Menlo\", monospace;;\n",
       "    font-size: 13px;\n",
       "    color: #555;\n",
       "    margin-left: 4px;\n",
       "    line-height: 19px;\n",
       "  }\n",
       "</style>\n",
       "<div class=\"ansiout\"></div>"
      ]
     },
     "metadata": {
      "application/vnd.databricks.v1+output": {
       "addedWidgets": {},
       "arguments": {},
       "data": "<div class=\"ansiout\"></div>",
       "datasetInfos": [],
       "removedWidgets": [],
       "type": "html"
      }
     },
     "output_type": "display_data"
    }
   ],
   "source": [
    "spark = SparkSession.builder.getOrCreate()"
   ]
  },
  {
   "cell_type": "code",
   "execution_count": 0,
   "metadata": {
    "application/vnd.databricks.v1+cell": {
     "inputWidgets": {},
     "nuid": "bf2c402f-42cf-4e6f-8901-111062d5c583",
     "showTitle": false,
     "title": ""
    }
   },
   "outputs": [
    {
     "data": {
      "text/html": [
       "<style scoped>\n",
       "  .ansiout {\n",
       "    display: block;\n",
       "    unicode-bidi: embed;\n",
       "    white-space: pre-wrap;\n",
       "    word-wrap: break-word;\n",
       "    word-break: break-all;\n",
       "    font-family: \"Source Code Pro\", \"Menlo\", monospace;;\n",
       "    font-size: 13px;\n",
       "    color: #555;\n",
       "    margin-left: 4px;\n",
       "    line-height: 19px;\n",
       "  }\n",
       "</style>\n",
       "<div class=\"ansiout\"></div>"
      ]
     },
     "metadata": {
      "application/vnd.databricks.v1+output": {
       "addedWidgets": {},
       "arguments": {},
       "data": "<div class=\"ansiout\"></div>",
       "datasetInfos": [],
       "removedWidgets": [],
       "type": "html"
      }
     },
     "output_type": "display_data"
    }
   ],
   "source": [
    "# Set Azure blob configuration\n",
    "spark.conf.set(\n",
    "  \"somecontainer@somestorage\",\n",
    "  \"somekey\")\n",
    "\n",
    "# Read parquet and create dataframe\n",
    "trade_common = spark.read.format('parquet').load(\"wasbs://somecontainer@somestorage.blob.core.windows.net/output_dir/partition=T\")"
   ]
  },
  {
   "cell_type": "code",
   "execution_count": 0,
   "metadata": {
    "application/vnd.databricks.v1+cell": {
     "inputWidgets": {},
     "nuid": "963fd112-3075-4b67-bda2-32575c9485e3",
     "showTitle": false,
     "title": ""
    }
   },
   "outputs": [
    {
     "data": {
      "text/html": [
       "<style scoped>\n",
       "  .ansiout {\n",
       "    display: block;\n",
       "    unicode-bidi: embed;\n",
       "    white-space: pre-wrap;\n",
       "    word-wrap: break-word;\n",
       "    word-break: break-all;\n",
       "    font-family: \"Source Code Pro\", \"Menlo\", monospace;;\n",
       "    font-size: 13px;\n",
       "    color: #555;\n",
       "    margin-left: 4px;\n",
       "    line-height: 19px;\n",
       "  }\n",
       "</style>\n",
       "<div class=\"ansiout\"></div>"
      ]
     },
     "metadata": {
      "application/vnd.databricks.v1+output": {
       "addedWidgets": {},
       "arguments": {},
       "data": "<div class=\"ansiout\"></div>",
       "datasetInfos": [],
       "removedWidgets": [],
       "type": "html"
      }
     },
     "output_type": "display_data"
    }
   ],
   "source": [
    "# Retrieve relevant fields\n",
    "trade = trade_common.select(\"trade_dt\", \"rec_type\", \"symbol\", \"exchange\", \"event_tm\", \"event_seq_nb\", \"arrival_tm\", \"trade_pr\")"
   ]
  },
  {
   "cell_type": "code",
   "execution_count": 0,
   "metadata": {
    "application/vnd.databricks.v1+cell": {
     "inputWidgets": {},
     "nuid": "781ca857-d139-4370-a623-7b18196be921",
     "showTitle": false,
     "title": ""
    }
   },
   "outputs": [
    {
     "data": {
      "text/html": [
       "<style scoped>\n",
       "  .ansiout {\n",
       "    display: block;\n",
       "    unicode-bidi: embed;\n",
       "    white-space: pre-wrap;\n",
       "    word-wrap: break-word;\n",
       "    word-break: break-all;\n",
       "    font-family: \"Source Code Pro\", \"Menlo\", monospace;;\n",
       "    font-size: 13px;\n",
       "    color: #555;\n",
       "    margin-left: 4px;\n",
       "    line-height: 19px;\n",
       "  }\n",
       "</style>\n",
       "<div class=\"ansiout\">+----------+--------+------+--------+--------------------+------------+-------------------+---------+\n",
       "  trade_dt|rec_type|symbol|exchange|            event_tm|event_seq_nb|         arrival_tm| trade_pr|\n",
       "+----------+--------+------+--------+--------------------+------------+-------------------+---------+\n",
       "2020-08-05|       T|  SYMB|  NASDAQ|2020-08-05 16:29:...|          60|2020-08-05 09:30:00|34.867146|\n",
       "2020-08-05|       T|  SYMB|  NASDAQ|2020-08-05 17:42:...|          70|2020-08-05 09:30:00|36.291695|\n",
       "2020-08-05|       T|  SYMB|  NASDAQ|2020-08-05 18:56:...|          80|2020-08-05 09:30:00|35.614357|\n",
       "2020-08-05|       T|  SYMB|  NASDAQ|2020-08-05 20:04:...|          90|2020-08-05 09:30:00|36.751675|\n",
       "2020-08-05|       T|  SYMB|  NASDAQ|2020-08-05 21:03:...|         100|2020-08-05 09:30:00|35.537262|\n",
       "2020-08-05|       T|  SYMC|  NASDAQ|2020-08-05 10:47:...|          10|2020-08-05 09:30:00|159.57423|\n",
       "2020-08-05|       T|  SYMC|  NASDAQ|2020-08-05 12:00:...|          20|2020-08-05 09:30:00|159.82744|\n",
       "2020-08-05|       T|  SYMC|  NASDAQ|2020-08-05 13:13:...|          30|2020-08-05 09:30:00|157.85478|\n",
       "2020-08-05|       T|  SYMC|  NASDAQ|2020-08-05 14:36:...|          40|2020-08-05 09:30:00|158.63351|\n",
       "2020-08-05|       T|  SYMC|  NASDAQ|2020-08-05 15:49:...|          50|2020-08-05 09:30:00|157.06882|\n",
       "+----------+--------+------+--------+--------------------+------------+-------------------+---------+\n",
       "only showing top 10 rows\n",
       "\n",
       "</div>"
      ]
     },
     "metadata": {
      "application/vnd.databricks.v1+output": {
       "addedWidgets": {},
       "arguments": {},
       "data": "<div class=\"ansiout\">+----------+--------+------+--------+--------------------+------------+-------------------+---------+\n|  trade_dt|rec_type|symbol|exchange|            event_tm|event_seq_nb|         arrival_tm| trade_pr|\n+----------+--------+------+--------+--------------------+------------+-------------------+---------+\n|2020-08-05|       T|  SYMB|  NASDAQ|2020-08-05 16:29:...|          60|2020-08-05 09:30:00|34.867146|\n|2020-08-05|       T|  SYMB|  NASDAQ|2020-08-05 17:42:...|          70|2020-08-05 09:30:00|36.291695|\n|2020-08-05|       T|  SYMB|  NASDAQ|2020-08-05 18:56:...|          80|2020-08-05 09:30:00|35.614357|\n|2020-08-05|       T|  SYMB|  NASDAQ|2020-08-05 20:04:...|          90|2020-08-05 09:30:00|36.751675|\n|2020-08-05|       T|  SYMB|  NASDAQ|2020-08-05 21:03:...|         100|2020-08-05 09:30:00|35.537262|\n|2020-08-05|       T|  SYMC|  NASDAQ|2020-08-05 10:47:...|          10|2020-08-05 09:30:00|159.57423|\n|2020-08-05|       T|  SYMC|  NASDAQ|2020-08-05 12:00:...|          20|2020-08-05 09:30:00|159.82744|\n|2020-08-05|       T|  SYMC|  NASDAQ|2020-08-05 13:13:...|          30|2020-08-05 09:30:00|157.85478|\n|2020-08-05|       T|  SYMC|  NASDAQ|2020-08-05 14:36:...|          40|2020-08-05 09:30:00|158.63351|\n|2020-08-05|       T|  SYMC|  NASDAQ|2020-08-05 15:49:...|          50|2020-08-05 09:30:00|157.06882|\n+----------+--------+------+--------+--------------------+------------+-------------------+---------+\nonly showing top 10 rows\n\n</div>",
       "datasetInfos": [],
       "removedWidgets": [],
       "type": "html"
      }
     },
     "output_type": "display_data"
    }
   ],
   "source": [
    "trade.show(10)"
   ]
  },
  {
   "cell_type": "code",
   "execution_count": 0,
   "metadata": {
    "application/vnd.databricks.v1+cell": {
     "inputWidgets": {},
     "nuid": "2a30fc5c-2f73-45df-a329-3c0070942489",
     "showTitle": false,
     "title": ""
    }
   },
   "outputs": [
    {
     "data": {
      "text/html": [
       "<style scoped>\n",
       "  .ansiout {\n",
       "    display: block;\n",
       "    unicode-bidi: embed;\n",
       "    white-space: pre-wrap;\n",
       "    word-wrap: break-word;\n",
       "    word-break: break-all;\n",
       "    font-family: \"Source Code Pro\", \"Menlo\", monospace;;\n",
       "    font-size: 13px;\n",
       "    color: #555;\n",
       "    margin-left: 4px;\n",
       "    line-height: 19px;\n",
       "  }\n",
       "</style>\n",
       "<div class=\"ansiout\"></div>"
      ]
     },
     "metadata": {
      "application/vnd.databricks.v1+output": {
       "addedWidgets": {},
       "arguments": {},
       "data": "<div class=\"ansiout\"></div>",
       "datasetInfos": [],
       "removedWidgets": [],
       "type": "html"
      }
     },
     "output_type": "display_data"
    }
   ],
   "source": [
    "def apply_latest(df):\n",
    "  \n",
    "    if df.first()[\"rec_type\"] == \"T\":\n",
    "    \n",
    "        # Group records based on latest trade date\n",
    "        df_grouped = df.groupBy(\"trade_dt\", \"rec_type\", \"symbol\", \"arrival_tm\", \"event_seq_nb\").agg(max(\"event_tm\").alias(\"latest_trade\"))\n",
    "    \n",
    "        # Join with original dataframe to retrieve exchange and trade_pr for latest trade date\n",
    "        df_joined = df_grouped.join(df.select(\"event_tm\", \"exchange\", \"trade_pr\"), df.event_tm == df_grouped.latest_trade, \"inner\")\n",
    "\n",
    "        # Retrieve relevant fields\n",
    "        df_final = df_joined.select(\"trade_dt\", \"rec_type\", col(\"symbol\").alias(\"stock_symbol\"), col(\"exchange\").alias(\"stock_exchange\"), \"latest_trade\", \"event_seq_nb\", \"arrival_tm\", \"trade_pr\").orderBy(\"trade_dt\", \"symbol\", \"event_seq_nb\")\n",
    "\n",
    "        return df_final\n",
    "  \n",
    "    elif df.first()[\"rec_type\"] == \"Q\":\n",
    "  \n",
    "        # Group records based on latest trade date\n",
    "        df_grouped = df.groupBy(\"trade_dt\", \"rec_type\", \"symbol\", \"arrival_tm\", \"event_seq_nb\").agg(max(\"event_tm\").alias(\"latest_quote\"))\n",
    "    \n",
    "        # Join with original dataframe to retrieve exchange, bid_pr, bid_size, ask_pr and ask_size\n",
    "        df_joined = df_grouped.join(df.select(\"event_tm\", \"exchange\", \"bid_pr\", \"bid_size\", \"ask_pr\", \"ask_size\"), df.event_tm == df_grouped.latest_quote, \"inner\")\n",
    "    \n",
    "        # Retrieve relevant fields\n",
    "        df_final = df_joined.select(\"trade_dt\", \"rec_type\", col(\"symbol\").alias(\"stock_symbol\"), col(\"exchange\").alias(\"stock_exchange\"), \"latest_quote\", \"event_seq_nb\", \"arrival_tm\", \"bid_pr\", \"bid_size\", \"ask_pr\", \"ask_size\").orderBy(\"trade_dt\", \"symbol\", \"event_seq_nb\")\n",
    "    \n",
    "        return df_final"
   ]
  },
  {
   "cell_type": "code",
   "execution_count": 0,
   "metadata": {
    "application/vnd.databricks.v1+cell": {
     "inputWidgets": {},
     "nuid": "b43473fd-49ff-458c-aeed-1a82dbe60780",
     "showTitle": false,
     "title": ""
    }
   },
   "outputs": [
    {
     "data": {
      "text/html": [
       "<style scoped>\n",
       "  .ansiout {\n",
       "    display: block;\n",
       "    unicode-bidi: embed;\n",
       "    white-space: pre-wrap;\n",
       "    word-wrap: break-word;\n",
       "    word-break: break-all;\n",
       "    font-family: \"Source Code Pro\", \"Menlo\", monospace;;\n",
       "    font-size: 13px;\n",
       "    color: #555;\n",
       "    margin-left: 4px;\n",
       "    line-height: 19px;\n",
       "  }\n",
       "</style>\n",
       "<div class=\"ansiout\"></div>"
      ]
     },
     "metadata": {
      "application/vnd.databricks.v1+output": {
       "addedWidgets": {},
       "arguments": {},
       "data": "<div class=\"ansiout\"></div>",
       "datasetInfos": [],
       "removedWidgets": [],
       "type": "html"
      }
     },
     "output_type": "display_data"
    }
   ],
   "source": [
    "trade_corrected = apply_latest(trade)"
   ]
  },
  {
   "cell_type": "code",
   "execution_count": 0,
   "metadata": {
    "application/vnd.databricks.v1+cell": {
     "inputWidgets": {},
     "nuid": "2e48ed6f-63ac-44a9-a5ec-6c485175401e",
     "showTitle": false,
     "title": ""
    }
   },
   "outputs": [
    {
     "data": {
      "text/html": [
       "<style scoped>\n",
       "  .ansiout {\n",
       "    display: block;\n",
       "    unicode-bidi: embed;\n",
       "    white-space: pre-wrap;\n",
       "    word-wrap: break-word;\n",
       "    word-break: break-all;\n",
       "    font-family: \"Source Code Pro\", \"Menlo\", monospace;;\n",
       "    font-size: 13px;\n",
       "    color: #555;\n",
       "    margin-left: 4px;\n",
       "    line-height: 19px;\n",
       "  }\n",
       "</style>\n",
       "<div class=\"ansiout\">+----------+--------+------------+--------------+--------------------+------------+-------------------+---------+\n",
       "  trade_dt|rec_type|stock_symbol|stock_exchange|        latest_trade|event_seq_nb|         arrival_tm| trade_pr|\n",
       "+----------+--------+------------+--------------+--------------------+------------+-------------------+---------+\n",
       "2020-08-05|       T|        SYMA|        NASDAQ|2020-08-05 10:38:...|          10|2020-08-05 09:30:00|  77.7757|\n",
       "2020-08-05|       T|        SYMA|        NASDAQ|2020-08-05 11:58:...|          20|2020-08-05 09:30:00|75.715225|\n",
       "2020-08-05|       T|        SYMA|        NASDAQ|2020-08-05 13:09:...|          30|2020-08-05 09:30:00| 75.87926|\n",
       "2020-08-05|       T|        SYMA|          NYSE|2020-08-05 14:24:...|          40|2020-08-05 09:30:00|78.430954|\n",
       "2020-08-05|       T|        SYMA|        NASDAQ|2020-08-05 15:33:...|          50|2020-08-05 09:30:00| 75.72602|\n",
       "2020-08-05|       T|        SYMA|        NASDAQ|2020-08-05 16:46:...|          60|2020-08-05 09:30:00|77.479485|\n",
       "2020-08-05|       T|        SYMA|        NASDAQ|2020-08-05 17:58:...|          70|2020-08-05 09:30:00| 74.91233|\n",
       "2020-08-05|       T|        SYMA|        NASDAQ|2020-08-05 19:13:...|          80|2020-08-05 09:30:00| 77.69288|\n",
       "2020-08-05|       T|        SYMA|        NASDAQ|2020-08-05 20:26:...|          90|2020-08-05 09:30:00| 76.15561|\n",
       "2020-08-05|       T|        SYMA|        NASDAQ|2020-08-05 21:40:...|         100|2020-08-05 09:30:00| 77.24676|\n",
       "+----------+--------+------------+--------------+--------------------+------------+-------------------+---------+\n",
       "only showing top 10 rows\n",
       "\n",
       "</div>"
      ]
     },
     "metadata": {
      "application/vnd.databricks.v1+output": {
       "addedWidgets": {},
       "arguments": {},
       "data": "<div class=\"ansiout\">+----------+--------+------------+--------------+--------------------+------------+-------------------+---------+\n|  trade_dt|rec_type|stock_symbol|stock_exchange|        latest_trade|event_seq_nb|         arrival_tm| trade_pr|\n+----------+--------+------------+--------------+--------------------+------------+-------------------+---------+\n|2020-08-05|       T|        SYMA|        NASDAQ|2020-08-05 10:38:...|          10|2020-08-05 09:30:00|  77.7757|\n|2020-08-05|       T|        SYMA|        NASDAQ|2020-08-05 11:58:...|          20|2020-08-05 09:30:00|75.715225|\n|2020-08-05|       T|        SYMA|        NASDAQ|2020-08-05 13:09:...|          30|2020-08-05 09:30:00| 75.87926|\n|2020-08-05|       T|        SYMA|          NYSE|2020-08-05 14:24:...|          40|2020-08-05 09:30:00|78.430954|\n|2020-08-05|       T|        SYMA|        NASDAQ|2020-08-05 15:33:...|          50|2020-08-05 09:30:00| 75.72602|\n|2020-08-05|       T|        SYMA|        NASDAQ|2020-08-05 16:46:...|          60|2020-08-05 09:30:00|77.479485|\n|2020-08-05|       T|        SYMA|        NASDAQ|2020-08-05 17:58:...|          70|2020-08-05 09:30:00| 74.91233|\n|2020-08-05|       T|        SYMA|        NASDAQ|2020-08-05 19:13:...|          80|2020-08-05 09:30:00| 77.69288|\n|2020-08-05|       T|        SYMA|        NASDAQ|2020-08-05 20:26:...|          90|2020-08-05 09:30:00| 76.15561|\n|2020-08-05|       T|        SYMA|        NASDAQ|2020-08-05 21:40:...|         100|2020-08-05 09:30:00| 77.24676|\n+----------+--------+------------+--------------+--------------------+------------+-------------------+---------+\nonly showing top 10 rows\n\n</div>",
       "datasetInfos": [],
       "removedWidgets": [],
       "type": "html"
      }
     },
     "output_type": "display_data"
    }
   ],
   "source": [
    "trade_corrected.show(10)"
   ]
  },
  {
   "cell_type": "code",
   "execution_count": 0,
   "metadata": {
    "application/vnd.databricks.v1+cell": {
     "inputWidgets": {},
     "nuid": "7bf7ada4-78c6-43bc-b825-937703ae45bb",
     "showTitle": false,
     "title": ""
    }
   },
   "outputs": [
    {
     "data": {
      "text/html": [
       "<style scoped>\n",
       "  .ansiout {\n",
       "    display: block;\n",
       "    unicode-bidi: embed;\n",
       "    white-space: pre-wrap;\n",
       "    word-wrap: break-word;\n",
       "    word-break: break-all;\n",
       "    font-family: \"Source Code Pro\", \"Menlo\", monospace;;\n",
       "    font-size: 13px;\n",
       "    color: #555;\n",
       "    margin-left: 4px;\n",
       "    line-height: 19px;\n",
       "  }\n",
       "</style>\n",
       "<div class=\"ansiout\"></div>"
      ]
     },
     "metadata": {
      "application/vnd.databricks.v1+output": {
       "addedWidgets": {},
       "arguments": {},
       "data": "<div class=\"ansiout\"></div>",
       "datasetInfos": [],
       "removedWidgets": [],
       "type": "html"
      }
     },
     "output_type": "display_data"
    }
   ],
   "source": [
    "# Separate dataframes by trade date\n",
    "trade_corrected_05 = trade_corrected.where(trade_corrected.trade_dt == \"2020-08-05\")\n",
    "trade_corrected_06 = trade_corrected.where(trade_corrected.trade_dt == \"2020-08-06\")"
   ]
  },
  {
   "cell_type": "code",
   "execution_count": 0,
   "metadata": {
    "application/vnd.databricks.v1+cell": {
     "inputWidgets": {},
     "nuid": "43d7258c-b610-435b-9fab-b39e172909e3",
     "showTitle": false,
     "title": ""
    }
   },
   "outputs": [
    {
     "data": {
      "text/html": [
       "<style scoped>\n",
       "  .ansiout {\n",
       "    display: block;\n",
       "    unicode-bidi: embed;\n",
       "    white-space: pre-wrap;\n",
       "    word-wrap: break-word;\n",
       "    word-break: break-all;\n",
       "    font-family: \"Source Code Pro\", \"Menlo\", monospace;;\n",
       "    font-size: 13px;\n",
       "    color: #555;\n",
       "    margin-left: 4px;\n",
       "    line-height: 19px;\n",
       "  }\n",
       "</style>\n",
       "<div class=\"ansiout\">+----------+--------+------------+--------------+--------------------+------------+-------------------+---------+\n",
       "  trade_dt|rec_type|stock_symbol|stock_exchange|        latest_trade|event_seq_nb|         arrival_tm| trade_pr|\n",
       "+----------+--------+------------+--------------+--------------------+------------+-------------------+---------+\n",
       "2020-08-05|       T|        SYMA|        NASDAQ|2020-08-05 10:38:...|          10|2020-08-05 09:30:00|  77.7757|\n",
       "2020-08-05|       T|        SYMA|        NASDAQ|2020-08-05 11:58:...|          20|2020-08-05 09:30:00|75.715225|\n",
       "2020-08-05|       T|        SYMA|        NASDAQ|2020-08-05 13:09:...|          30|2020-08-05 09:30:00| 75.87926|\n",
       "2020-08-05|       T|        SYMA|          NYSE|2020-08-05 14:24:...|          40|2020-08-05 09:30:00|78.430954|\n",
       "2020-08-05|       T|        SYMA|        NASDAQ|2020-08-05 15:33:...|          50|2020-08-05 09:30:00| 75.72602|\n",
       "2020-08-05|       T|        SYMA|        NASDAQ|2020-08-05 16:46:...|          60|2020-08-05 09:30:00|77.479485|\n",
       "2020-08-05|       T|        SYMA|        NASDAQ|2020-08-05 17:58:...|          70|2020-08-05 09:30:00| 74.91233|\n",
       "2020-08-05|       T|        SYMA|        NASDAQ|2020-08-05 19:13:...|          80|2020-08-05 09:30:00| 77.69288|\n",
       "2020-08-05|       T|        SYMA|        NASDAQ|2020-08-05 20:26:...|          90|2020-08-05 09:30:00| 76.15561|\n",
       "2020-08-05|       T|        SYMA|        NASDAQ|2020-08-05 21:40:...|         100|2020-08-05 09:30:00| 77.24676|\n",
       "2020-08-05|       T|        SYMB|          NYSE|2020-08-05 10:43:...|          10|2020-08-05 09:30:00|34.978676|\n",
       "2020-08-05|       T|        SYMB|          NYSE|2020-08-05 12:02:...|          20|2020-08-05 09:30:00| 33.17828|\n",
       "2020-08-05|       T|        SYMB|          NYSE|2020-08-05 13:10:...|          30|2020-08-05 09:30:00|34.183914|\n",
       "2020-08-05|       T|        SYMB|          NYSE|2020-08-05 14:26:...|          40|2020-08-05 09:30:00|36.511795|\n",
       "2020-08-05|       T|        SYMB|          NYSE|2020-08-05 15:31:...|          50|2020-08-05 09:30:00| 36.07549|\n",
       "2020-08-05|       T|        SYMB|          NYSE|2020-08-05 16:48:...|          60|2020-08-05 09:30:00|35.762054|\n",
       "2020-08-05|       T|        SYMB|          NYSE|2020-08-05 18:02:...|          70|2020-08-05 09:30:00|32.681087|\n",
       "2020-08-05|       T|        SYMB|          NYSE|2020-08-05 19:08:...|          80|2020-08-05 09:30:00| 34.27408|\n",
       "2020-08-05|       T|        SYMB|          NYSE|2020-08-05 20:17:...|          90|2020-08-05 09:30:00|  34.2493|\n",
       "2020-08-05|       T|        SYMB|          NYSE|2020-08-05 21:27:...|         100|2020-08-05 09:30:00|33.956287|\n",
       "+----------+--------+------------+--------------+--------------------+------------+-------------------+---------+\n",
       "only showing top 20 rows\n",
       "\n",
       "</div>"
      ]
     },
     "metadata": {
      "application/vnd.databricks.v1+output": {
       "addedWidgets": {},
       "arguments": {},
       "data": "<div class=\"ansiout\">+----------+--------+------------+--------------+--------------------+------------+-------------------+---------+\n|  trade_dt|rec_type|stock_symbol|stock_exchange|        latest_trade|event_seq_nb|         arrival_tm| trade_pr|\n+----------+--------+------------+--------------+--------------------+------------+-------------------+---------+\n|2020-08-05|       T|        SYMA|        NASDAQ|2020-08-05 10:38:...|          10|2020-08-05 09:30:00|  77.7757|\n|2020-08-05|       T|        SYMA|        NASDAQ|2020-08-05 11:58:...|          20|2020-08-05 09:30:00|75.715225|\n|2020-08-05|       T|        SYMA|        NASDAQ|2020-08-05 13:09:...|          30|2020-08-05 09:30:00| 75.87926|\n|2020-08-05|       T|        SYMA|          NYSE|2020-08-05 14:24:...|          40|2020-08-05 09:30:00|78.430954|\n|2020-08-05|       T|        SYMA|        NASDAQ|2020-08-05 15:33:...|          50|2020-08-05 09:30:00| 75.72602|\n|2020-08-05|       T|        SYMA|        NASDAQ|2020-08-05 16:46:...|          60|2020-08-05 09:30:00|77.479485|\n|2020-08-05|       T|        SYMA|        NASDAQ|2020-08-05 17:58:...|          70|2020-08-05 09:30:00| 74.91233|\n|2020-08-05|       T|        SYMA|        NASDAQ|2020-08-05 19:13:...|          80|2020-08-05 09:30:00| 77.69288|\n|2020-08-05|       T|        SYMA|        NASDAQ|2020-08-05 20:26:...|          90|2020-08-05 09:30:00| 76.15561|\n|2020-08-05|       T|        SYMA|        NASDAQ|2020-08-05 21:40:...|         100|2020-08-05 09:30:00| 77.24676|\n|2020-08-05|       T|        SYMB|          NYSE|2020-08-05 10:43:...|          10|2020-08-05 09:30:00|34.978676|\n|2020-08-05|       T|        SYMB|          NYSE|2020-08-05 12:02:...|          20|2020-08-05 09:30:00| 33.17828|\n|2020-08-05|       T|        SYMB|          NYSE|2020-08-05 13:10:...|          30|2020-08-05 09:30:00|34.183914|\n|2020-08-05|       T|        SYMB|          NYSE|2020-08-05 14:26:...|          40|2020-08-05 09:30:00|36.511795|\n|2020-08-05|       T|        SYMB|          NYSE|2020-08-05 15:31:...|          50|2020-08-05 09:30:00| 36.07549|\n|2020-08-05|       T|        SYMB|          NYSE|2020-08-05 16:48:...|          60|2020-08-05 09:30:00|35.762054|\n|2020-08-05|       T|        SYMB|          NYSE|2020-08-05 18:02:...|          70|2020-08-05 09:30:00|32.681087|\n|2020-08-05|       T|        SYMB|          NYSE|2020-08-05 19:08:...|          80|2020-08-05 09:30:00| 34.27408|\n|2020-08-05|       T|        SYMB|          NYSE|2020-08-05 20:17:...|          90|2020-08-05 09:30:00|  34.2493|\n|2020-08-05|       T|        SYMB|          NYSE|2020-08-05 21:27:...|         100|2020-08-05 09:30:00|33.956287|\n+----------+--------+------------+--------------+--------------------+------------+-------------------+---------+\nonly showing top 20 rows\n\n</div>",
       "datasetInfos": [],
       "removedWidgets": [],
       "type": "html"
      }
     },
     "output_type": "display_data"
    }
   ],
   "source": [
    "trade_corrected_05.show()"
   ]
  },
  {
   "cell_type": "code",
   "execution_count": 0,
   "metadata": {
    "application/vnd.databricks.v1+cell": {
     "inputWidgets": {},
     "nuid": "1d7b45e1-2645-4421-86b1-f749e8f09586",
     "showTitle": false,
     "title": ""
    }
   },
   "outputs": [
    {
     "data": {
      "text/html": [
       "<style scoped>\n",
       "  .ansiout {\n",
       "    display: block;\n",
       "    unicode-bidi: embed;\n",
       "    white-space: pre-wrap;\n",
       "    word-wrap: break-word;\n",
       "    word-break: break-all;\n",
       "    font-family: \"Source Code Pro\", \"Menlo\", monospace;;\n",
       "    font-size: 13px;\n",
       "    color: #555;\n",
       "    margin-left: 4px;\n",
       "    line-height: 19px;\n",
       "  }\n",
       "</style>\n",
       "<div class=\"ansiout\"></div>"
      ]
     },
     "metadata": {
      "application/vnd.databricks.v1+output": {
       "addedWidgets": {},
       "arguments": {},
       "data": "<div class=\"ansiout\"></div>",
       "datasetInfos": [],
       "removedWidgets": [],
       "type": "html"
      }
     },
     "output_type": "display_data"
    }
   ],
   "source": [
    "# Write to Azure blob in parquet format\n",
    "trade_corrected_05.write.parquet(\"wasbs://somecontainer@somestorage.blob.core.windows.net/trade/trade_dt={}\".format('2020-08-05'))\n",
    "trade_corrected_06.write.parquet(\"wasbs://somecontainer@somestorage.blob.core.windows.net/trade/trade_dt={}\".format('2020-08-06'))"
   ]
  },
  {
   "cell_type": "code",
   "execution_count": 0,
   "metadata": {
    "application/vnd.databricks.v1+cell": {
     "inputWidgets": {},
     "nuid": "02144199-ad74-4643-8f19-94778af40fa3",
     "showTitle": false,
     "title": ""
    }
   },
   "outputs": [
    {
     "data": {
      "text/html": [
       "<style scoped>\n",
       "  .ansiout {\n",
       "    display: block;\n",
       "    unicode-bidi: embed;\n",
       "    white-space: pre-wrap;\n",
       "    word-wrap: break-word;\n",
       "    word-break: break-all;\n",
       "    font-family: \"Source Code Pro\", \"Menlo\", monospace;;\n",
       "    font-size: 13px;\n",
       "    color: #555;\n",
       "    margin-left: 4px;\n",
       "    line-height: 19px;\n",
       "  }\n",
       "</style>\n",
       "<div class=\"ansiout\"></div>"
      ]
     },
     "metadata": {
      "application/vnd.databricks.v1+output": {
       "addedWidgets": {},
       "arguments": {},
       "data": "<div class=\"ansiout\"></div>",
       "datasetInfos": [],
       "removedWidgets": [],
       "type": "html"
      }
     },
     "output_type": "display_data"
    }
   ],
   "source": [
    "# Set Azure blob configuration\n",
    "spark.conf.set(\n",
    "  \"somecontainer@somestorage\",\n",
    "  \"somekey\")\n",
    "\n",
    "# Read parquet and create dataframe\n",
    "quote_common = spark.read.format('parquet').load(\"wasbs://somecontainer@somestorage.blob.core.windows.net/output_dir/partition=Q\")"
   ]
  },
  {
   "cell_type": "code",
   "execution_count": 0,
   "metadata": {
    "application/vnd.databricks.v1+cell": {
     "inputWidgets": {},
     "nuid": "7015cad6-0e1b-4e19-9771-f96eeb0b3b01",
     "showTitle": false,
     "title": ""
    }
   },
   "outputs": [
    {
     "data": {
      "text/html": [
       "<style scoped>\n",
       "  .ansiout {\n",
       "    display: block;\n",
       "    unicode-bidi: embed;\n",
       "    white-space: pre-wrap;\n",
       "    word-wrap: break-word;\n",
       "    word-break: break-all;\n",
       "    font-family: \"Source Code Pro\", \"Menlo\", monospace;;\n",
       "    font-size: 13px;\n",
       "    color: #555;\n",
       "    margin-left: 4px;\n",
       "    line-height: 19px;\n",
       "  }\n",
       "</style>\n",
       "<div class=\"ansiout\"></div>"
      ]
     },
     "metadata": {
      "application/vnd.databricks.v1+output": {
       "addedWidgets": {},
       "arguments": {},
       "data": "<div class=\"ansiout\"></div>",
       "datasetInfos": [],
       "removedWidgets": [],
       "type": "html"
      }
     },
     "output_type": "display_data"
    }
   ],
   "source": [
    "# Retrieve relevant fields\n",
    "quote = quote_common.select(\"trade_dt\", \"rec_type\", \"symbol\", \"exchange\", \"event_tm\", \"event_seq_nb\", \"arrival_tm\", \"bid_pr\", \"bid_size\", \"ask_pr\", \"ask_size\")"
   ]
  },
  {
   "cell_type": "code",
   "execution_count": 0,
   "metadata": {
    "application/vnd.databricks.v1+cell": {
     "inputWidgets": {},
     "nuid": "9240ab9b-3baa-4992-92b0-a97ce849288d",
     "showTitle": false,
     "title": ""
    }
   },
   "outputs": [
    {
     "data": {
      "text/html": [
       "<style scoped>\n",
       "  .ansiout {\n",
       "    display: block;\n",
       "    unicode-bidi: embed;\n",
       "    white-space: pre-wrap;\n",
       "    word-wrap: break-word;\n",
       "    word-break: break-all;\n",
       "    font-family: \"Source Code Pro\", \"Menlo\", monospace;;\n",
       "    font-size: 13px;\n",
       "    color: #555;\n",
       "    margin-left: 4px;\n",
       "    line-height: 19px;\n",
       "  }\n",
       "</style>\n",
       "<div class=\"ansiout\">+----------+--------+------+--------+--------------------+------------+-------------------+---------+--------+---------+--------+\n",
       "  trade_dt|rec_type|symbol|exchange|            event_tm|event_seq_nb|         arrival_tm|   bid_pr|bid_size|   ask_pr|ask_size|\n",
       "+----------+--------+------+--------+--------------------+------------+-------------------+---------+--------+---------+--------+\n",
       "2020-08-05|       Q|  SYMA|  NASDAQ|2020-08-05 09:36:...|           1|2020-08-05 09:30:00| 76.10017|     100|  77.9648|     100|\n",
       "2020-08-05|       Q|  SYMA|  NASDAQ|2020-08-05 09:42:...|           2|2020-08-05 09:30:00| 75.44373|     100| 75.94453|     100|\n",
       "2020-08-05|       Q|  SYMA|  NASDAQ|2020-08-05 09:48:...|           3|2020-08-05 09:30:00|78.847984|     100| 80.69115|     100|\n",
       "2020-08-05|       Q|  SYMA|  NASDAQ|2020-08-05 09:53:...|           4|2020-08-05 09:30:00| 74.98337|     100| 76.16257|     100|\n",
       "2020-08-05|       Q|  SYMA|  NASDAQ|2020-08-05 10:00:...|           5|2020-08-05 09:30:00| 76.71408|     100|77.855125|     100|\n",
       "2020-08-05|       Q|  SYMA|  NASDAQ|2020-08-05 10:05:...|           6|2020-08-05 09:30:00| 76.78901|     100| 77.79983|     100|\n",
       "2020-08-05|       Q|  SYMA|  NASDAQ|2020-08-05 10:13:...|           7|2020-08-05 09:30:00|76.370995|     100| 76.94632|     100|\n",
       "2020-08-05|       Q|  SYMA|  NASDAQ|2020-08-05 10:21:...|           8|2020-08-05 09:30:00| 77.32601|     100| 77.65018|     100|\n",
       "2020-08-05|       Q|  SYMA|  NASDAQ|2020-08-05 10:30:...|           9|2020-08-05 09:30:00| 77.11395|     100| 77.52986|     100|\n",
       "2020-08-05|       Q|  SYMA|  NASDAQ|2020-08-05 10:45:...|          11|2020-08-05 09:30:00| 77.69893|     100| 79.18605|     100|\n",
       "+----------+--------+------+--------+--------------------+------------+-------------------+---------+--------+---------+--------+\n",
       "only showing top 10 rows\n",
       "\n",
       "</div>"
      ]
     },
     "metadata": {
      "application/vnd.databricks.v1+output": {
       "addedWidgets": {},
       "arguments": {},
       "data": "<div class=\"ansiout\">+----------+--------+------+--------+--------------------+------------+-------------------+---------+--------+---------+--------+\n|  trade_dt|rec_type|symbol|exchange|            event_tm|event_seq_nb|         arrival_tm|   bid_pr|bid_size|   ask_pr|ask_size|\n+----------+--------+------+--------+--------------------+------------+-------------------+---------+--------+---------+--------+\n|2020-08-05|       Q|  SYMA|  NASDAQ|2020-08-05 09:36:...|           1|2020-08-05 09:30:00| 76.10017|     100|  77.9648|     100|\n|2020-08-05|       Q|  SYMA|  NASDAQ|2020-08-05 09:42:...|           2|2020-08-05 09:30:00| 75.44373|     100| 75.94453|     100|\n|2020-08-05|       Q|  SYMA|  NASDAQ|2020-08-05 09:48:...|           3|2020-08-05 09:30:00|78.847984|     100| 80.69115|     100|\n|2020-08-05|       Q|  SYMA|  NASDAQ|2020-08-05 09:53:...|           4|2020-08-05 09:30:00| 74.98337|     100| 76.16257|     100|\n|2020-08-05|       Q|  SYMA|  NASDAQ|2020-08-05 10:00:...|           5|2020-08-05 09:30:00| 76.71408|     100|77.855125|     100|\n|2020-08-05|       Q|  SYMA|  NASDAQ|2020-08-05 10:05:...|           6|2020-08-05 09:30:00| 76.78901|     100| 77.79983|     100|\n|2020-08-05|       Q|  SYMA|  NASDAQ|2020-08-05 10:13:...|           7|2020-08-05 09:30:00|76.370995|     100| 76.94632|     100|\n|2020-08-05|       Q|  SYMA|  NASDAQ|2020-08-05 10:21:...|           8|2020-08-05 09:30:00| 77.32601|     100| 77.65018|     100|\n|2020-08-05|       Q|  SYMA|  NASDAQ|2020-08-05 10:30:...|           9|2020-08-05 09:30:00| 77.11395|     100| 77.52986|     100|\n|2020-08-05|       Q|  SYMA|  NASDAQ|2020-08-05 10:45:...|          11|2020-08-05 09:30:00| 77.69893|     100| 79.18605|     100|\n+----------+--------+------+--------+--------------------+------------+-------------------+---------+--------+---------+--------+\nonly showing top 10 rows\n\n</div>",
       "datasetInfos": [],
       "removedWidgets": [],
       "type": "html"
      }
     },
     "output_type": "display_data"
    }
   ],
   "source": [
    "quote.show(10)"
   ]
  },
  {
   "cell_type": "code",
   "execution_count": 0,
   "metadata": {
    "application/vnd.databricks.v1+cell": {
     "inputWidgets": {},
     "nuid": "30163f4d-dda4-4bd8-a5c6-f62e6ff23d58",
     "showTitle": false,
     "title": ""
    }
   },
   "outputs": [
    {
     "data": {
      "text/html": [
       "<style scoped>\n",
       "  .ansiout {\n",
       "    display: block;\n",
       "    unicode-bidi: embed;\n",
       "    white-space: pre-wrap;\n",
       "    word-wrap: break-word;\n",
       "    word-break: break-all;\n",
       "    font-family: \"Source Code Pro\", \"Menlo\", monospace;;\n",
       "    font-size: 13px;\n",
       "    color: #555;\n",
       "    margin-left: 4px;\n",
       "    line-height: 19px;\n",
       "  }\n",
       "</style>\n",
       "<div class=\"ansiout\"></div>"
      ]
     },
     "metadata": {
      "application/vnd.databricks.v1+output": {
       "addedWidgets": {},
       "arguments": {},
       "data": "<div class=\"ansiout\"></div>",
       "datasetInfos": [],
       "removedWidgets": [],
       "type": "html"
      }
     },
     "output_type": "display_data"
    }
   ],
   "source": [
    "quote_corrected = apply_latest(quote)"
   ]
  },
  {
   "cell_type": "code",
   "execution_count": 0,
   "metadata": {
    "application/vnd.databricks.v1+cell": {
     "inputWidgets": {},
     "nuid": "1eb86e1e-549b-42ac-8471-25bbae32f93e",
     "showTitle": false,
     "title": ""
    }
   },
   "outputs": [
    {
     "data": {
      "text/html": [
       "<style scoped>\n",
       "  .ansiout {\n",
       "    display: block;\n",
       "    unicode-bidi: embed;\n",
       "    white-space: pre-wrap;\n",
       "    word-wrap: break-word;\n",
       "    word-break: break-all;\n",
       "    font-family: \"Source Code Pro\", \"Menlo\", monospace;;\n",
       "    font-size: 13px;\n",
       "    color: #555;\n",
       "    margin-left: 4px;\n",
       "    line-height: 19px;\n",
       "  }\n",
       "</style>\n",
       "<div class=\"ansiout\">+----------+--------+------------+--------------+--------------------+------------+-------------------+---------+--------+---------+--------+\n",
       "  trade_dt|rec_type|stock_symbol|stock_exchange|        latest_quote|event_seq_nb|         arrival_tm|   bid_pr|bid_size|   ask_pr|ask_size|\n",
       "+----------+--------+------------+--------------+--------------------+------------+-------------------+---------+--------+---------+--------+\n",
       "2020-08-05|       Q|        SYMA|        NASDAQ|2020-08-05 09:36:...|           1|2020-08-05 09:30:00| 76.10017|     100|  77.9648|     100|\n",
       "2020-08-05|       Q|        SYMA|        NASDAQ|2020-08-05 09:42:...|           2|2020-08-05 09:30:00| 75.44373|     100| 75.94453|     100|\n",
       "2020-08-05|       Q|        SYMA|          NYSE|2020-08-05 09:50:...|           3|2020-08-05 09:30:00| 77.15973|     100| 77.33205|     100|\n",
       "2020-08-05|       Q|        SYMA|          NYSE|2020-08-05 09:57:...|           4|2020-08-05 09:30:00|79.299774|     100| 80.08399|     100|\n",
       "2020-08-05|       Q|        SYMA|          NYSE|2020-08-05 10:06:...|           5|2020-08-05 09:30:00|77.863495|     100| 78.30821|     100|\n",
       "2020-08-05|       Q|        SYMA|          NYSE|2020-08-05 10:11:...|           6|2020-08-05 09:30:00| 78.74799|     100|80.329056|     100|\n",
       "2020-08-05|       Q|        SYMA|          NYSE|2020-08-05 10:17:...|           7|2020-08-05 09:30:00| 77.16837|     100| 77.97598|     100|\n",
       "2020-08-05|       Q|        SYMA|          NYSE|2020-08-05 10:23:...|           8|2020-08-05 09:30:00| 78.06551|     100| 78.80516|     100|\n",
       "2020-08-05|       Q|        SYMA|          NYSE|2020-08-05 10:31:...|           9|2020-08-05 09:30:00| 76.69653|     100| 78.56943|     100|\n",
       "2020-08-05|       Q|        SYMA|        NASDAQ|2020-08-05 10:45:...|          11|2020-08-05 09:30:00| 77.69893|     100| 79.18605|     100|\n",
       "+----------+--------+------------+--------------+--------------------+------------+-------------------+---------+--------+---------+--------+\n",
       "only showing top 10 rows\n",
       "\n",
       "</div>"
      ]
     },
     "metadata": {
      "application/vnd.databricks.v1+output": {
       "addedWidgets": {},
       "arguments": {},
       "data": "<div class=\"ansiout\">+----------+--------+------------+--------------+--------------------+------------+-------------------+---------+--------+---------+--------+\n|  trade_dt|rec_type|stock_symbol|stock_exchange|        latest_quote|event_seq_nb|         arrival_tm|   bid_pr|bid_size|   ask_pr|ask_size|\n+----------+--------+------------+--------------+--------------------+------------+-------------------+---------+--------+---------+--------+\n|2020-08-05|       Q|        SYMA|        NASDAQ|2020-08-05 09:36:...|           1|2020-08-05 09:30:00| 76.10017|     100|  77.9648|     100|\n|2020-08-05|       Q|        SYMA|        NASDAQ|2020-08-05 09:42:...|           2|2020-08-05 09:30:00| 75.44373|     100| 75.94453|     100|\n|2020-08-05|       Q|        SYMA|          NYSE|2020-08-05 09:50:...|           3|2020-08-05 09:30:00| 77.15973|     100| 77.33205|     100|\n|2020-08-05|       Q|        SYMA|          NYSE|2020-08-05 09:57:...|           4|2020-08-05 09:30:00|79.299774|     100| 80.08399|     100|\n|2020-08-05|       Q|        SYMA|          NYSE|2020-08-05 10:06:...|           5|2020-08-05 09:30:00|77.863495|     100| 78.30821|     100|\n|2020-08-05|       Q|        SYMA|          NYSE|2020-08-05 10:11:...|           6|2020-08-05 09:30:00| 78.74799|     100|80.329056|     100|\n|2020-08-05|       Q|        SYMA|          NYSE|2020-08-05 10:17:...|           7|2020-08-05 09:30:00| 77.16837|     100| 77.97598|     100|\n|2020-08-05|       Q|        SYMA|          NYSE|2020-08-05 10:23:...|           8|2020-08-05 09:30:00| 78.06551|     100| 78.80516|     100|\n|2020-08-05|       Q|        SYMA|          NYSE|2020-08-05 10:31:...|           9|2020-08-05 09:30:00| 76.69653|     100| 78.56943|     100|\n|2020-08-05|       Q|        SYMA|        NASDAQ|2020-08-05 10:45:...|          11|2020-08-05 09:30:00| 77.69893|     100| 79.18605|     100|\n+----------+--------+------------+--------------+--------------------+------------+-------------------+---------+--------+---------+--------+\nonly showing top 10 rows\n\n</div>",
       "datasetInfos": [],
       "removedWidgets": [],
       "type": "html"
      }
     },
     "output_type": "display_data"
    }
   ],
   "source": [
    "quote_corrected.show(10)"
   ]
  },
  {
   "cell_type": "code",
   "execution_count": 0,
   "metadata": {
    "application/vnd.databricks.v1+cell": {
     "inputWidgets": {},
     "nuid": "1a5ad892-df34-4a64-a585-2bbf72a94ed4",
     "showTitle": false,
     "title": ""
    }
   },
   "outputs": [
    {
     "data": {
      "text/html": [
       "<style scoped>\n",
       "  .ansiout {\n",
       "    display: block;\n",
       "    unicode-bidi: embed;\n",
       "    white-space: pre-wrap;\n",
       "    word-wrap: break-word;\n",
       "    word-break: break-all;\n",
       "    font-family: \"Source Code Pro\", \"Menlo\", monospace;;\n",
       "    font-size: 13px;\n",
       "    color: #555;\n",
       "    margin-left: 4px;\n",
       "    line-height: 19px;\n",
       "  }\n",
       "</style>\n",
       "<div class=\"ansiout\"></div>"
      ]
     },
     "metadata": {
      "application/vnd.databricks.v1+output": {
       "addedWidgets": {},
       "arguments": {},
       "data": "<div class=\"ansiout\"></div>",
       "datasetInfos": [],
       "removedWidgets": [],
       "type": "html"
      }
     },
     "output_type": "display_data"
    }
   ],
   "source": [
    "# Separate dataframes by trade date\n",
    "quote_corrected_05 = quote_corrected.where(quote_corrected.trade_dt == \"2020-08-05\")\n",
    "quote_corrected_06 = quote_corrected.where(quote_corrected.trade_dt == \"2020-08-06\")"
   ]
  },
  {
   "cell_type": "code",
   "execution_count": 0,
   "metadata": {
    "application/vnd.databricks.v1+cell": {
     "inputWidgets": {},
     "nuid": "192f60f1-6260-4ac3-a56c-244690abb5ae",
     "showTitle": false,
     "title": ""
    }
   },
   "outputs": [
    {
     "data": {
      "text/html": [
       "<style scoped>\n",
       "  .ansiout {\n",
       "    display: block;\n",
       "    unicode-bidi: embed;\n",
       "    white-space: pre-wrap;\n",
       "    word-wrap: break-word;\n",
       "    word-break: break-all;\n",
       "    font-family: \"Source Code Pro\", \"Menlo\", monospace;;\n",
       "    font-size: 13px;\n",
       "    color: #555;\n",
       "    margin-left: 4px;\n",
       "    line-height: 19px;\n",
       "  }\n",
       "</style>\n",
       "<div class=\"ansiout\"></div>"
      ]
     },
     "metadata": {
      "application/vnd.databricks.v1+output": {
       "addedWidgets": {},
       "arguments": {},
       "data": "<div class=\"ansiout\"></div>",
       "datasetInfos": [],
       "removedWidgets": [],
       "type": "html"
      }
     },
     "output_type": "display_data"
    }
   ],
   "source": [
    "# Write to Azure blob in parquet format\n",
    "quote_corrected_05.write.parquet(\"wasbs://somecontainer@somestorage.blob.core.windows.net/quote/trade_dt={}\".format('2020-08-05'))\n",
    "quote_corrected_06.write.parquet(\"wasbs://somecontainer@somestorage.blob.core.windows.net/quote/trade_dt={}\".format('2020-08-06'))"
   ]
  }
 ],
 "metadata": {
  "application/vnd.databricks.v1+notebook": {
   "dashboards": [],
   "language": "python",
   "notebookMetadata": {
    "pythonIndentUnit": 4
   },
   "notebookName": "eod-data-load",
   "notebookOrigID": 2984863268944786,
   "widgets": {}
  },
  "kernelspec": {
   "display_name": "Python 3",
   "language": "python",
   "name": "python3"
  },
  "language_info": {
   "codemirror_mode": {
    "name": "ipython",
    "version": 3
   },
   "file_extension": ".py",
   "mimetype": "text/x-python",
   "name": "python",
   "nbconvert_exporter": "python",
   "pygments_lexer": "ipython3",
   "version": "3.8.3"
  }
 },
 "nbformat": 4,
 "nbformat_minor": 1
}
